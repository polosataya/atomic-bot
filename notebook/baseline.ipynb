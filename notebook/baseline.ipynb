{
 "cells": [
  {
   "cell_type": "code",
   "execution_count": null,
   "id": "43fa78ef",
   "metadata": {},
   "outputs": [],
   "source": [
    "#https://t.me/ai_WorkAssistant_bot"
   ]
  },
  {
   "cell_type": "code",
   "execution_count": 1,
   "id": "c63e0682",
   "metadata": {},
   "outputs": [],
   "source": [
    "import pandas as pd\n",
    "import numpy as np\n",
    "import difflib\n",
    "from annoy import AnnoyIndex\n",
    "import joblib\n",
    "from sklearn.feature_extraction.text import TfidfVectorizer"
   ]
  },
  {
   "cell_type": "code",
   "execution_count": 2,
   "id": "183814cf",
   "metadata": {},
   "outputs": [],
   "source": [
    "from natasha import Segmenter, MorphVocab, Doc, NewsMorphTagger, NewsEmbedding, NewsSyntaxParser\n",
    "import string\n",
    "import re"
   ]
  },
  {
   "cell_type": "code",
   "execution_count": 3,
   "id": "9018382b",
   "metadata": {},
   "outputs": [
    {
     "name": "stderr",
     "output_type": "stream",
     "text": [
      "/home/tanya/anaconda3/lib/python3.9/site-packages/huggingface_hub/utils/_runtime.py:184: UserWarning: Pydantic is installed but cannot be imported. Please check your installation. `huggingface_hub` will default to not using Pydantic. Error message: '{e}'\n",
      "  warnings.warn(\n"
     ]
    }
   ],
   "source": [
    "import torch\n",
    "from transformers import AutoTokenizer, AutoModel"
   ]
  },
  {
   "cell_type": "code",
   "execution_count": 38,
   "id": "13c31306",
   "metadata": {},
   "outputs": [],
   "source": [
    "from transformers import AutoTokenizer, AutoModelForSeq2SeqLM\n",
    "from transformers import GenerationConfig"
   ]
  },
  {
   "cell_type": "code",
   "execution_count": 44,
   "id": "6c0c00e4",
   "metadata": {},
   "outputs": [
    {
     "name": "stderr",
     "output_type": "stream",
     "text": [
      "Special tokens have been added in the vocabulary, make sure the associated word embeddings are fine-tuned or trained.\n",
      "Special tokens have been added in the vocabulary, make sure the associated word embeddings are fine-tuned or trained.\n"
     ]
    },
    {
     "data": {
      "text/plain": [
       "T5ForConditionalGeneration(\n",
       "  (shared): Embedding(50364, 1024)\n",
       "  (encoder): T5Stack(\n",
       "    (embed_tokens): Embedding(50364, 1024)\n",
       "    (block): ModuleList(\n",
       "      (0): T5Block(\n",
       "        (layer): ModuleList(\n",
       "          (0): T5LayerSelfAttention(\n",
       "            (SelfAttention): T5Attention(\n",
       "              (q): Linear(in_features=1024, out_features=1024, bias=False)\n",
       "              (k): Linear(in_features=1024, out_features=1024, bias=False)\n",
       "              (v): Linear(in_features=1024, out_features=1024, bias=False)\n",
       "              (o): Linear(in_features=1024, out_features=1024, bias=False)\n",
       "              (relative_attention_bias): Embedding(32, 16)\n",
       "            )\n",
       "            (layer_norm): T5LayerNorm()\n",
       "            (dropout): Dropout(p=0.1, inplace=False)\n",
       "          )\n",
       "          (1): T5LayerFF(\n",
       "            (DenseReluDense): T5DenseGatedActDense(\n",
       "              (wi_0): Linear(in_features=1024, out_features=2816, bias=False)\n",
       "              (wi_1): Linear(in_features=1024, out_features=2816, bias=False)\n",
       "              (wo): Linear(in_features=2816, out_features=1024, bias=False)\n",
       "              (dropout): Dropout(p=0.1, inplace=False)\n",
       "              (act): NewGELUActivation()\n",
       "            )\n",
       "            (layer_norm): T5LayerNorm()\n",
       "            (dropout): Dropout(p=0.1, inplace=False)\n",
       "          )\n",
       "        )\n",
       "      )\n",
       "      (1-23): 23 x T5Block(\n",
       "        (layer): ModuleList(\n",
       "          (0): T5LayerSelfAttention(\n",
       "            (SelfAttention): T5Attention(\n",
       "              (q): Linear(in_features=1024, out_features=1024, bias=False)\n",
       "              (k): Linear(in_features=1024, out_features=1024, bias=False)\n",
       "              (v): Linear(in_features=1024, out_features=1024, bias=False)\n",
       "              (o): Linear(in_features=1024, out_features=1024, bias=False)\n",
       "            )\n",
       "            (layer_norm): T5LayerNorm()\n",
       "            (dropout): Dropout(p=0.1, inplace=False)\n",
       "          )\n",
       "          (1): T5LayerFF(\n",
       "            (DenseReluDense): T5DenseGatedActDense(\n",
       "              (wi_0): Linear(in_features=1024, out_features=2816, bias=False)\n",
       "              (wi_1): Linear(in_features=1024, out_features=2816, bias=False)\n",
       "              (wo): Linear(in_features=2816, out_features=1024, bias=False)\n",
       "              (dropout): Dropout(p=0.1, inplace=False)\n",
       "              (act): NewGELUActivation()\n",
       "            )\n",
       "            (layer_norm): T5LayerNorm()\n",
       "            (dropout): Dropout(p=0.1, inplace=False)\n",
       "          )\n",
       "        )\n",
       "      )\n",
       "    )\n",
       "    (final_layer_norm): T5LayerNorm()\n",
       "    (dropout): Dropout(p=0.1, inplace=False)\n",
       "  )\n",
       "  (decoder): T5Stack(\n",
       "    (embed_tokens): Embedding(50364, 1024)\n",
       "    (block): ModuleList(\n",
       "      (0): T5Block(\n",
       "        (layer): ModuleList(\n",
       "          (0): T5LayerSelfAttention(\n",
       "            (SelfAttention): T5Attention(\n",
       "              (q): Linear(in_features=1024, out_features=1024, bias=False)\n",
       "              (k): Linear(in_features=1024, out_features=1024, bias=False)\n",
       "              (v): Linear(in_features=1024, out_features=1024, bias=False)\n",
       "              (o): Linear(in_features=1024, out_features=1024, bias=False)\n",
       "              (relative_attention_bias): Embedding(32, 16)\n",
       "            )\n",
       "            (layer_norm): T5LayerNorm()\n",
       "            (dropout): Dropout(p=0.1, inplace=False)\n",
       "          )\n",
       "          (1): T5LayerCrossAttention(\n",
       "            (EncDecAttention): T5Attention(\n",
       "              (q): Linear(in_features=1024, out_features=1024, bias=False)\n",
       "              (k): Linear(in_features=1024, out_features=1024, bias=False)\n",
       "              (v): Linear(in_features=1024, out_features=1024, bias=False)\n",
       "              (o): Linear(in_features=1024, out_features=1024, bias=False)\n",
       "            )\n",
       "            (layer_norm): T5LayerNorm()\n",
       "            (dropout): Dropout(p=0.1, inplace=False)\n",
       "          )\n",
       "          (2): T5LayerFF(\n",
       "            (DenseReluDense): T5DenseGatedActDense(\n",
       "              (wi_0): Linear(in_features=1024, out_features=2816, bias=False)\n",
       "              (wi_1): Linear(in_features=1024, out_features=2816, bias=False)\n",
       "              (wo): Linear(in_features=2816, out_features=1024, bias=False)\n",
       "              (dropout): Dropout(p=0.1, inplace=False)\n",
       "              (act): NewGELUActivation()\n",
       "            )\n",
       "            (layer_norm): T5LayerNorm()\n",
       "            (dropout): Dropout(p=0.1, inplace=False)\n",
       "          )\n",
       "        )\n",
       "      )\n",
       "      (1-23): 23 x T5Block(\n",
       "        (layer): ModuleList(\n",
       "          (0): T5LayerSelfAttention(\n",
       "            (SelfAttention): T5Attention(\n",
       "              (q): Linear(in_features=1024, out_features=1024, bias=False)\n",
       "              (k): Linear(in_features=1024, out_features=1024, bias=False)\n",
       "              (v): Linear(in_features=1024, out_features=1024, bias=False)\n",
       "              (o): Linear(in_features=1024, out_features=1024, bias=False)\n",
       "            )\n",
       "            (layer_norm): T5LayerNorm()\n",
       "            (dropout): Dropout(p=0.1, inplace=False)\n",
       "          )\n",
       "          (1): T5LayerCrossAttention(\n",
       "            (EncDecAttention): T5Attention(\n",
       "              (q): Linear(in_features=1024, out_features=1024, bias=False)\n",
       "              (k): Linear(in_features=1024, out_features=1024, bias=False)\n",
       "              (v): Linear(in_features=1024, out_features=1024, bias=False)\n",
       "              (o): Linear(in_features=1024, out_features=1024, bias=False)\n",
       "            )\n",
       "            (layer_norm): T5LayerNorm()\n",
       "            (dropout): Dropout(p=0.1, inplace=False)\n",
       "          )\n",
       "          (2): T5LayerFF(\n",
       "            (DenseReluDense): T5DenseGatedActDense(\n",
       "              (wi_0): Linear(in_features=1024, out_features=2816, bias=False)\n",
       "              (wi_1): Linear(in_features=1024, out_features=2816, bias=False)\n",
       "              (wo): Linear(in_features=2816, out_features=1024, bias=False)\n",
       "              (dropout): Dropout(p=0.1, inplace=False)\n",
       "              (act): NewGELUActivation()\n",
       "            )\n",
       "            (layer_norm): T5LayerNorm()\n",
       "            (dropout): Dropout(p=0.1, inplace=False)\n",
       "          )\n",
       "        )\n",
       "      )\n",
       "    )\n",
       "    (final_layer_norm): T5LayerNorm()\n",
       "    (dropout): Dropout(p=0.1, inplace=False)\n",
       "  )\n",
       "  (lm_head): Linear(in_features=1024, out_features=50364, bias=False)\n",
       ")"
      ]
     },
     "execution_count": 44,
     "metadata": {},
     "output_type": "execute_result"
    }
   ],
   "source": [
    "use_cuda = torch.cuda.is_available()\n",
    "#device = torch.device(\"cuda\" if use_cuda else \"cpu\")\n",
    "device = \"cpu\"\n",
    "generation_config = GenerationConfig.from_pretrained(\"Den4ikAI/FRED-T5-LARGE_text_qa\")\n",
    "tokenizer = AutoTokenizer.from_pretrained(\"Den4ikAI/FRED-T5-LARGE_text_qa\")\n",
    "model = AutoModelForSeq2SeqLM.from_pretrained(\"Den4ikAI/FRED-T5-LARGE_text_qa\").to(device)\n",
    "model.eval()"
   ]
  },
  {
   "cell_type": "code",
   "execution_count": 6,
   "id": "e92ac336",
   "metadata": {},
   "outputs": [],
   "source": [
    "#import natasha\n",
    "#natasha.__version__"
   ]
  },
  {
   "cell_type": "code",
   "execution_count": 7,
   "id": "dddf74bf",
   "metadata": {},
   "outputs": [],
   "source": [
    "# модели для NER\n",
    "segmenter = Segmenter()\n",
    "morph_vocab = MorphVocab()\n",
    "emb = NewsEmbedding()\n",
    "morph_tagger = NewsMorphTagger(emb)\n",
    "syntax_parser = NewsSyntaxParser(emb)\n",
    "\n",
    "stopwords_nltk=[]\n",
    "\n",
    "def lemmatizer(text):\n",
    "    '''Лемматизатор для natasha'''\n",
    "    doc = Doc(text)\n",
    "    doc.segment(segmenter)\n",
    "    doc.tag_morph(morph_tagger)\n",
    "    doc.parse_syntax(syntax_parser)\n",
    "    for token in doc.tokens:\n",
    "        token.lemmatize(morph_vocab)\n",
    "    res = \" \".join([_.lemma for _ in doc.tokens if _.lemma not in stopwords_nltk])\n",
    "\n",
    "    return res\n",
    "\n",
    "def full_clean(s):\n",
    "    '''Очистка текста отдельного письма'''\n",
    "    s = re.sub(r\"[^a-zA-Zа-яА-Я0-9#]\", \" \", s)\n",
    "    s = s.lower()  # все нижний регистр\n",
    "    s = re.sub(\" +\", \" \", s)  # оставляем только 1 пробел\n",
    "    text = lemmatizer(s)\n",
    "\n",
    "    return text"
   ]
  },
  {
   "cell_type": "code",
   "execution_count": 8,
   "id": "cd4ff141",
   "metadata": {},
   "outputs": [],
   "source": [
    "def tfidf_featuring(tfidf, df):   \n",
    "    '''Преобразование текста в мешок слов'''\n",
    "    X_tfidf = tfidf.transform(df)\n",
    "    #feature_names = tfidf.get_feature_names_out()\n",
    "    #X_tfidf = pd.DataFrame(X_tfidf.toarray(), columns = feature_names, index = df.index)\n",
    "    \n",
    "    return X_tfidf.toarray().tolist()\n"
   ]
  },
  {
   "cell_type": "code",
   "execution_count": 9,
   "id": "e246fba4",
   "metadata": {},
   "outputs": [],
   "source": [
    "def generate(prompt):\n",
    "    data = tokenizer(f\"{prompt}\", return_tensors=\"pt\").to(model.device)\n",
    "    output_ids = model.generate(\n",
    "        **data,\n",
    "        generation_config=generation_config\n",
    "    )[0]\n",
    "    print(tokenizer.decode(data[\"input_ids\"][0].tolist()))\n",
    "    out = tokenizer.decode(output_ids.tolist())\n",
    "    return out"
   ]
  },
  {
   "cell_type": "code",
   "execution_count": 67,
   "id": "b4cddf99",
   "metadata": {
    "scrolled": true
   },
   "outputs": [
    {
     "data": {
      "text/html": [
       "<div>\n",
       "<style scoped>\n",
       "    .dataframe tbody tr th:only-of-type {\n",
       "        vertical-align: middle;\n",
       "    }\n",
       "\n",
       "    .dataframe tbody tr th {\n",
       "        vertical-align: top;\n",
       "    }\n",
       "\n",
       "    .dataframe thead th {\n",
       "        text-align: right;\n",
       "    }\n",
       "</style>\n",
       "<table border=\"1\" class=\"dataframe\">\n",
       "  <thead>\n",
       "    <tr style=\"text-align: right;\">\n",
       "      <th></th>\n",
       "      <th>id</th>\n",
       "      <th>Вопрос</th>\n",
       "      <th>Ответ</th>\n",
       "      <th>Источник</th>\n",
       "    </tr>\n",
       "  </thead>\n",
       "  <tbody>\n",
       "    <tr>\n",
       "      <th>0</th>\n",
       "      <td>1</td>\n",
       "      <td>Что такое закупка?</td>\n",
       "      <td>Компании, которые частично или полностью прина...</td>\n",
       "      <td>NaN</td>\n",
       "    </tr>\n",
       "    <tr>\n",
       "      <th>1</th>\n",
       "      <td>2</td>\n",
       "      <td>Какие группы закупок в зависимости от заказчиков?</td>\n",
       "      <td>Закупки делят на три группы в зависимости от з...</td>\n",
       "      <td>NaN</td>\n",
       "    </tr>\n",
       "    <tr>\n",
       "      <th>2</th>\n",
       "      <td>3</td>\n",
       "      <td>Где и как искать закупки?</td>\n",
       "      <td>Закупки по 44-ФЗ обязательно публикуются на za...</td>\n",
       "      <td>NaN</td>\n",
       "    </tr>\n",
       "    <tr>\n",
       "      <th>3</th>\n",
       "      <td>4</td>\n",
       "      <td>Что такое извещение о закупке?</td>\n",
       "      <td>Извещение о закупке — документ, объявляющий о ...</td>\n",
       "      <td>NaN</td>\n",
       "    </tr>\n",
       "    <tr>\n",
       "      <th>4</th>\n",
       "      <td>5</td>\n",
       "      <td>Состав извещения о закупке</td>\n",
       "      <td>Заказчики по 44-ФЗ и 223-ФЗ всегда указывают в...</td>\n",
       "      <td>NaN</td>\n",
       "    </tr>\n",
       "  </tbody>\n",
       "</table>\n",
       "</div>"
      ],
      "text/plain": [
       "   id                                             Вопрос  \\\n",
       "0   1                                 Что такое закупка?   \n",
       "1   2  Какие группы закупок в зависимости от заказчиков?   \n",
       "2   3                          Где и как искать закупки?   \n",
       "3   4                     Что такое извещение о закупке?   \n",
       "4   5                         Состав извещения о закупке   \n",
       "\n",
       "                                               Ответ Источник  \n",
       "0  Компании, которые частично или полностью прина...      NaN  \n",
       "1  Закупки делят на три группы в зависимости от з...      NaN  \n",
       "2  Закупки по 44-ФЗ обязательно публикуются на za...      NaN  \n",
       "3  Извещение о закупке — документ, объявляющий о ...      NaN  \n",
       "4  Заказчики по 44-ФЗ и 223-ФЗ всегда указывают в...      NaN  "
      ]
     },
     "execution_count": 67,
     "metadata": {},
     "output_type": "execute_result"
    }
   ],
   "source": [
    "data = pd.read_csv('faq.csv', index_col=None, sep=\",\")[[\"id\", 'Вопрос', \"Ответ\", \"Источник\"]]\n",
    "data.head()"
   ]
  },
  {
   "cell_type": "code",
   "execution_count": 68,
   "id": "c600628a",
   "metadata": {},
   "outputs": [],
   "source": [
    "data['clean'] = data['Вопрос'].apply(lambda x: full_clean(x))"
   ]
  },
  {
   "cell_type": "code",
   "execution_count": 69,
   "id": "d80cd991",
   "metadata": {},
   "outputs": [
    {
     "data": {
      "text/html": [
       "<style>#sk-container-id-4 {color: black;}#sk-container-id-4 pre{padding: 0;}#sk-container-id-4 div.sk-toggleable {background-color: white;}#sk-container-id-4 label.sk-toggleable__label {cursor: pointer;display: block;width: 100%;margin-bottom: 0;padding: 0.3em;box-sizing: border-box;text-align: center;}#sk-container-id-4 label.sk-toggleable__label-arrow:before {content: \"▸\";float: left;margin-right: 0.25em;color: #696969;}#sk-container-id-4 label.sk-toggleable__label-arrow:hover:before {color: black;}#sk-container-id-4 div.sk-estimator:hover label.sk-toggleable__label-arrow:before {color: black;}#sk-container-id-4 div.sk-toggleable__content {max-height: 0;max-width: 0;overflow: hidden;text-align: left;background-color: #f0f8ff;}#sk-container-id-4 div.sk-toggleable__content pre {margin: 0.2em;color: black;border-radius: 0.25em;background-color: #f0f8ff;}#sk-container-id-4 input.sk-toggleable__control:checked~div.sk-toggleable__content {max-height: 200px;max-width: 100%;overflow: auto;}#sk-container-id-4 input.sk-toggleable__control:checked~label.sk-toggleable__label-arrow:before {content: \"▾\";}#sk-container-id-4 div.sk-estimator input.sk-toggleable__control:checked~label.sk-toggleable__label {background-color: #d4ebff;}#sk-container-id-4 div.sk-label input.sk-toggleable__control:checked~label.sk-toggleable__label {background-color: #d4ebff;}#sk-container-id-4 input.sk-hidden--visually {border: 0;clip: rect(1px 1px 1px 1px);clip: rect(1px, 1px, 1px, 1px);height: 1px;margin: -1px;overflow: hidden;padding: 0;position: absolute;width: 1px;}#sk-container-id-4 div.sk-estimator {font-family: monospace;background-color: #f0f8ff;border: 1px dotted black;border-radius: 0.25em;box-sizing: border-box;margin-bottom: 0.5em;}#sk-container-id-4 div.sk-estimator:hover {background-color: #d4ebff;}#sk-container-id-4 div.sk-parallel-item::after {content: \"\";width: 100%;border-bottom: 1px solid gray;flex-grow: 1;}#sk-container-id-4 div.sk-label:hover label.sk-toggleable__label {background-color: #d4ebff;}#sk-container-id-4 div.sk-serial::before {content: \"\";position: absolute;border-left: 1px solid gray;box-sizing: border-box;top: 0;bottom: 0;left: 50%;z-index: 0;}#sk-container-id-4 div.sk-serial {display: flex;flex-direction: column;align-items: center;background-color: white;padding-right: 0.2em;padding-left: 0.2em;position: relative;}#sk-container-id-4 div.sk-item {position: relative;z-index: 1;}#sk-container-id-4 div.sk-parallel {display: flex;align-items: stretch;justify-content: center;background-color: white;position: relative;}#sk-container-id-4 div.sk-item::before, #sk-container-id-4 div.sk-parallel-item::before {content: \"\";position: absolute;border-left: 1px solid gray;box-sizing: border-box;top: 0;bottom: 0;left: 50%;z-index: -1;}#sk-container-id-4 div.sk-parallel-item {display: flex;flex-direction: column;z-index: 1;position: relative;background-color: white;}#sk-container-id-4 div.sk-parallel-item:first-child::after {align-self: flex-end;width: 50%;}#sk-container-id-4 div.sk-parallel-item:last-child::after {align-self: flex-start;width: 50%;}#sk-container-id-4 div.sk-parallel-item:only-child::after {width: 0;}#sk-container-id-4 div.sk-dashed-wrapped {border: 1px dashed gray;margin: 0 0.4em 0.5em 0.4em;box-sizing: border-box;padding-bottom: 0.4em;background-color: white;}#sk-container-id-4 div.sk-label label {font-family: monospace;font-weight: bold;display: inline-block;line-height: 1.2em;}#sk-container-id-4 div.sk-label-container {text-align: center;}#sk-container-id-4 div.sk-container {/* jupyter's `normalize.less` sets `[hidden] { display: none; }` but bootstrap.min.css set `[hidden] { display: none !important; }` so we also need the `!important` here to be able to override the default hidden behavior on the sphinx rendered scikit-learn.org. See: https://github.com/scikit-learn/scikit-learn/issues/21755 */display: inline-block !important;position: relative;}#sk-container-id-4 div.sk-text-repr-fallback {display: none;}</style><div id=\"sk-container-id-4\" class=\"sk-top-container\"><div class=\"sk-text-repr-fallback\"><pre>TfidfVectorizer(max_features=2000, ngram_range=(1, 2), sublinear_tf=True,\n",
       "                token_pattern=&#x27;(?u)\\\\b[а-яА-ЯёЁa-zA-Z][а-яА-ЯёЁa-zA-Z]+\\\\b&#x27;)</pre><b>In a Jupyter environment, please rerun this cell to show the HTML representation or trust the notebook. <br />On GitHub, the HTML representation is unable to render, please try loading this page with nbviewer.org.</b></div><div class=\"sk-container\" hidden><div class=\"sk-item\"><div class=\"sk-estimator sk-toggleable\"><input class=\"sk-toggleable__control sk-hidden--visually\" id=\"sk-estimator-id-4\" type=\"checkbox\" checked><label for=\"sk-estimator-id-4\" class=\"sk-toggleable__label sk-toggleable__label-arrow\">TfidfVectorizer</label><div class=\"sk-toggleable__content\"><pre>TfidfVectorizer(max_features=2000, ngram_range=(1, 2), sublinear_tf=True,\n",
       "                token_pattern=&#x27;(?u)\\\\b[а-яА-ЯёЁa-zA-Z][а-яА-ЯёЁa-zA-Z]+\\\\b&#x27;)</pre></div></div></div></div></div>"
      ],
      "text/plain": [
       "TfidfVectorizer(max_features=2000, ngram_range=(1, 2), sublinear_tf=True,\n",
       "                token_pattern='(?u)\\\\b[а-яА-ЯёЁa-zA-Z][а-яА-ЯёЁa-zA-Z]+\\\\b')"
      ]
     },
     "execution_count": 69,
     "metadata": {},
     "output_type": "execute_result"
    }
   ],
   "source": [
    "#тренировка модели token_pattern=r'(?u)\\b\\w\\w+\\b'\n",
    "tfidf = TfidfVectorizer(max_features=2000, #max_df = 0.9,\n",
    "                        #analyzer='char_wb', ngram_range=(3, 5), \n",
    "                        analyzer='word', ngram_range=(1, 2), \n",
    "                        token_pattern=r'(?u)\\b[а-яА-ЯёЁa-zA-Z][а-яА-ЯёЁa-zA-Z]+\\b',\n",
    "                        #tokenizer=lemmatize,\n",
    "                        lowercase = True, sublinear_tf=True)\n",
    "tfidf.fit(data['clean'])"
   ]
  },
  {
   "cell_type": "code",
   "execution_count": 70,
   "id": "3a066daa",
   "metadata": {},
   "outputs": [
    {
     "data": {
      "text/plain": [
       "['atom-bot/model/tfidf.pkl']"
      ]
     },
     "execution_count": 70,
     "metadata": {},
     "output_type": "execute_result"
    }
   ],
   "source": [
    "#```Сохранение результатов TfidfVectorizer для веб-приложения\n",
    "joblib.dump(tfidf, 'atom-bot/model/tfidf.pkl') \n",
    "#Загрузка\n",
    "#tfidf = joblib.load('tfidf.pkl')``` \n"
   ]
  },
  {
   "cell_type": "code",
   "execution_count": 71,
   "id": "9a6676f7",
   "metadata": {},
   "outputs": [
    {
     "data": {
      "text/html": [
       "<div>\n",
       "<style scoped>\n",
       "    .dataframe tbody tr th:only-of-type {\n",
       "        vertical-align: middle;\n",
       "    }\n",
       "\n",
       "    .dataframe tbody tr th {\n",
       "        vertical-align: top;\n",
       "    }\n",
       "\n",
       "    .dataframe thead th {\n",
       "        text-align: right;\n",
       "    }\n",
       "</style>\n",
       "<table border=\"1\" class=\"dataframe\">\n",
       "  <thead>\n",
       "    <tr style=\"text-align: right;\">\n",
       "      <th></th>\n",
       "      <th>id</th>\n",
       "      <th>Вопрос</th>\n",
       "      <th>Ответ</th>\n",
       "      <th>Источник</th>\n",
       "      <th>clean</th>\n",
       "      <th>embed</th>\n",
       "    </tr>\n",
       "  </thead>\n",
       "  <tbody>\n",
       "    <tr>\n",
       "      <th>0</th>\n",
       "      <td>1</td>\n",
       "      <td>Что такое закупка?</td>\n",
       "      <td>Компании, которые частично или полностью прина...</td>\n",
       "      <td>NaN</td>\n",
       "      <td>что такой закупка</td>\n",
       "      <td>[0.0, 0.0, 0.0, 0.0, 0.0, 0.0, 0.0, 0.0, 0.0, ...</td>\n",
       "    </tr>\n",
       "    <tr>\n",
       "      <th>1</th>\n",
       "      <td>2</td>\n",
       "      <td>Какие группы закупок в зависимости от заказчиков?</td>\n",
       "      <td>Закупки делят на три группы в зависимости от з...</td>\n",
       "      <td>NaN</td>\n",
       "      <td>какой группа закупка в зависимость от заказчик</td>\n",
       "      <td>[0.0, 0.0, 0.0, 0.0, 0.0, 0.0, 0.0, 0.0, 0.0, ...</td>\n",
       "    </tr>\n",
       "    <tr>\n",
       "      <th>2</th>\n",
       "      <td>3</td>\n",
       "      <td>Где и как искать закупки?</td>\n",
       "      <td>Закупки по 44-ФЗ обязательно публикуются на za...</td>\n",
       "      <td>NaN</td>\n",
       "      <td>где и как искать закупка</td>\n",
       "      <td>[0.0, 0.0, 0.0, 0.0, 0.0, 0.0, 0.0, 0.0, 0.0, ...</td>\n",
       "    </tr>\n",
       "    <tr>\n",
       "      <th>3</th>\n",
       "      <td>4</td>\n",
       "      <td>Что такое извещение о закупке?</td>\n",
       "      <td>Извещение о закупке — документ, объявляющий о ...</td>\n",
       "      <td>NaN</td>\n",
       "      <td>что такой извещение о закупка</td>\n",
       "      <td>[0.0, 0.0, 0.0, 0.0, 0.0, 0.0, 0.0, 0.0, 0.0, ...</td>\n",
       "    </tr>\n",
       "    <tr>\n",
       "      <th>4</th>\n",
       "      <td>5</td>\n",
       "      <td>Состав извещения о закупке</td>\n",
       "      <td>Заказчики по 44-ФЗ и 223-ФЗ всегда указывают в...</td>\n",
       "      <td>NaN</td>\n",
       "      <td>состав извещение о закупка</td>\n",
       "      <td>[0.0, 0.0, 0.0, 0.0, 0.0, 0.0, 0.0, 0.0, 0.0, ...</td>\n",
       "    </tr>\n",
       "    <tr>\n",
       "      <th>...</th>\n",
       "      <td>...</td>\n",
       "      <td>...</td>\n",
       "      <td>...</td>\n",
       "      <td>...</td>\n",
       "      <td>...</td>\n",
       "      <td>...</td>\n",
       "    </tr>\n",
       "    <tr>\n",
       "      <th>145</th>\n",
       "      <td>146</td>\n",
       "      <td>Предусмотрена ли Законом №223-ФЗ обязанность з...</td>\n",
       "      <td>Обоснование цены договора стало обязательным д...</td>\n",
       "      <td>223-ФЗ</td>\n",
       "      <td>предусмотреть ли закон 223 фз обязанность зака...</td>\n",
       "      <td>[0.0, 0.0, 0.0, 0.0, 0.0, 0.0, 0.0, 0.0, 0.0, ...</td>\n",
       "    </tr>\n",
       "    <tr>\n",
       "      <th>146</th>\n",
       "      <td>147</td>\n",
       "      <td>В каких случаях заказчик обязан установить тре...</td>\n",
       "      <td>Государственный заказчик может установить обес...</td>\n",
       "      <td>223-ФЗ</td>\n",
       "      <td>в какой случай заказчик обязанный установить т...</td>\n",
       "      <td>[0.0, 0.0, 0.0, 0.0, 0.0, 0.0, 0.0, 0.0, 0.0, ...</td>\n",
       "    </tr>\n",
       "    <tr>\n",
       "      <th>147</th>\n",
       "      <td>148</td>\n",
       "      <td>В каких случаях проводится конкурентная закупк...</td>\n",
       "      <td>В случаях, когда заказчик до начала закупки не...</td>\n",
       "      <td>223-ФЗ</td>\n",
       "      <td>в какой случай проводиться конкурентный закупк...</td>\n",
       "      <td>[0.0, 0.0, 0.0, 0.0, 0.0, 0.0, 0.0, 0.0, 0.0, ...</td>\n",
       "    </tr>\n",
       "    <tr>\n",
       "      <th>148</th>\n",
       "      <td>149</td>\n",
       "      <td>В течение какого срока со дня заключения догов...</td>\n",
       "      <td>заказчик возвращает денежные средства, внесенн...</td>\n",
       "      <td>223-ФЗ</td>\n",
       "      <td>в течение какой срок с день заключение договор...</td>\n",
       "      <td>[0.0, 0.0, 0.0, 0.0, 0.0, 0.0, 0.0, 0.0, 0.0, ...</td>\n",
       "    </tr>\n",
       "    <tr>\n",
       "      <th>149</th>\n",
       "      <td>150</td>\n",
       "      <td>В каких случаях конкурентная закупка признаетс...</td>\n",
       "      <td>В случае, если по окончании срока подачи заяво...</td>\n",
       "      <td>223-ФЗ</td>\n",
       "      <td>в какой случай конкурентный закупка признавать...</td>\n",
       "      <td>[0.0, 0.0, 0.0, 0.0, 0.0, 0.0, 0.0, 0.0, 0.0, ...</td>\n",
       "    </tr>\n",
       "  </tbody>\n",
       "</table>\n",
       "<p>150 rows × 6 columns</p>\n",
       "</div>"
      ],
      "text/plain": [
       "      id                                             Вопрос  \\\n",
       "0      1                                 Что такое закупка?   \n",
       "1      2  Какие группы закупок в зависимости от заказчиков?   \n",
       "2      3                          Где и как искать закупки?   \n",
       "3      4                     Что такое извещение о закупке?   \n",
       "4      5                         Состав извещения о закупке   \n",
       "..   ...                                                ...   \n",
       "145  146  Предусмотрена ли Законом №223-ФЗ обязанность з...   \n",
       "146  147  В каких случаях заказчик обязан установить тре...   \n",
       "147  148  В каких случаях проводится конкурентная закупк...   \n",
       "148  149  В течение какого срока со дня заключения догов...   \n",
       "149  150  В каких случаях конкурентная закупка признаетс...   \n",
       "\n",
       "                                                 Ответ Источник  \\\n",
       "0    Компании, которые частично или полностью прина...      NaN   \n",
       "1    Закупки делят на три группы в зависимости от з...      NaN   \n",
       "2    Закупки по 44-ФЗ обязательно публикуются на za...      NaN   \n",
       "3    Извещение о закупке — документ, объявляющий о ...      NaN   \n",
       "4    Заказчики по 44-ФЗ и 223-ФЗ всегда указывают в...      NaN   \n",
       "..                                                 ...      ...   \n",
       "145  Обоснование цены договора стало обязательным д...   223-ФЗ   \n",
       "146  Государственный заказчик может установить обес...   223-ФЗ   \n",
       "147  В случаях, когда заказчик до начала закупки не...   223-ФЗ   \n",
       "148  заказчик возвращает денежные средства, внесенн...   223-ФЗ   \n",
       "149  В случае, если по окончании срока подачи заяво...   223-ФЗ   \n",
       "\n",
       "                                                 clean  \\\n",
       "0                                    что такой закупка   \n",
       "1       какой группа закупка в зависимость от заказчик   \n",
       "2                             где и как искать закупка   \n",
       "3                        что такой извещение о закупка   \n",
       "4                           состав извещение о закупка   \n",
       "..                                                 ...   \n",
       "145  предусмотреть ли закон 223 фз обязанность зака...   \n",
       "146  в какой случай заказчик обязанный установить т...   \n",
       "147  в какой случай проводиться конкурентный закупк...   \n",
       "148  в течение какой срок с день заключение договор...   \n",
       "149  в какой случай конкурентный закупка признавать...   \n",
       "\n",
       "                                                 embed  \n",
       "0    [0.0, 0.0, 0.0, 0.0, 0.0, 0.0, 0.0, 0.0, 0.0, ...  \n",
       "1    [0.0, 0.0, 0.0, 0.0, 0.0, 0.0, 0.0, 0.0, 0.0, ...  \n",
       "2    [0.0, 0.0, 0.0, 0.0, 0.0, 0.0, 0.0, 0.0, 0.0, ...  \n",
       "3    [0.0, 0.0, 0.0, 0.0, 0.0, 0.0, 0.0, 0.0, 0.0, ...  \n",
       "4    [0.0, 0.0, 0.0, 0.0, 0.0, 0.0, 0.0, 0.0, 0.0, ...  \n",
       "..                                                 ...  \n",
       "145  [0.0, 0.0, 0.0, 0.0, 0.0, 0.0, 0.0, 0.0, 0.0, ...  \n",
       "146  [0.0, 0.0, 0.0, 0.0, 0.0, 0.0, 0.0, 0.0, 0.0, ...  \n",
       "147  [0.0, 0.0, 0.0, 0.0, 0.0, 0.0, 0.0, 0.0, 0.0, ...  \n",
       "148  [0.0, 0.0, 0.0, 0.0, 0.0, 0.0, 0.0, 0.0, 0.0, ...  \n",
       "149  [0.0, 0.0, 0.0, 0.0, 0.0, 0.0, 0.0, 0.0, 0.0, ...  \n",
       "\n",
       "[150 rows x 6 columns]"
      ]
     },
     "execution_count": 71,
     "metadata": {},
     "output_type": "execute_result"
    }
   ],
   "source": [
    "# Мешок слов по всем текстам, тренирвочным и тестовым вместе\n",
    "X_tfidf = tfidf_featuring(tfidf, data['clean'])\n",
    "data['embed']=X_tfidf\n",
    "data"
   ]
  },
  {
   "cell_type": "code",
   "execution_count": 72,
   "id": "e8db5309",
   "metadata": {},
   "outputs": [
    {
     "data": {
      "text/plain": [
       "923"
      ]
     },
     "execution_count": 72,
     "metadata": {},
     "output_type": "execute_result"
    }
   ],
   "source": [
    "len(X_tfidf[0])"
   ]
  },
  {
   "cell_type": "code",
   "execution_count": 73,
   "id": "c850b879",
   "metadata": {},
   "outputs": [
    {
     "data": {
      "text/plain": [
       "923"
      ]
     },
     "execution_count": 73,
     "metadata": {},
     "output_type": "execute_result"
    }
   ],
   "source": [
    "len(data['embed'][0])"
   ]
  },
  {
   "cell_type": "code",
   "execution_count": 74,
   "id": "ac906e35",
   "metadata": {},
   "outputs": [],
   "source": [
    "data.to_csv(\"atom-bot/data/train_df.csv\", index=None, sep=';')"
   ]
  },
  {
   "cell_type": "code",
   "execution_count": 75,
   "id": "64fcdc92",
   "metadata": {},
   "outputs": [],
   "source": [
    "#data = pd.read_csv('atom-bot/data/train_df.csv', index_col=None, sep=\";\")[[\"id\", 'Вопрос', \"Ответ\", \"embed\"]]\n",
    "#len(data['embed'][0])"
   ]
  },
  {
   "cell_type": "code",
   "execution_count": 76,
   "id": "53e88a96",
   "metadata": {},
   "outputs": [],
   "source": [
    "#X_tfidf[0]"
   ]
  },
  {
   "cell_type": "code",
   "execution_count": 77,
   "id": "438affc3",
   "metadata": {},
   "outputs": [],
   "source": [
    "#data['embed'][0].split(\",\")"
   ]
  },
  {
   "cell_type": "code",
   "execution_count": 78,
   "id": "740aeda4",
   "metadata": {},
   "outputs": [
    {
     "data": {
      "text/html": [
       "<div>\n",
       "<style scoped>\n",
       "    .dataframe tbody tr th:only-of-type {\n",
       "        vertical-align: middle;\n",
       "    }\n",
       "\n",
       "    .dataframe tbody tr th {\n",
       "        vertical-align: top;\n",
       "    }\n",
       "\n",
       "    .dataframe thead th {\n",
       "        text-align: right;\n",
       "    }\n",
       "</style>\n",
       "<table border=\"1\" class=\"dataframe\">\n",
       "  <thead>\n",
       "    <tr style=\"text-align: right;\">\n",
       "      <th></th>\n",
       "      <th>id</th>\n",
       "      <th>Вопрос</th>\n",
       "      <th>Ответ</th>\n",
       "      <th>Источник</th>\n",
       "      <th>clean</th>\n",
       "      <th>embed</th>\n",
       "    </tr>\n",
       "  </thead>\n",
       "  <tbody>\n",
       "    <tr>\n",
       "      <th>0</th>\n",
       "      <td>1</td>\n",
       "      <td>Что такое закупка?</td>\n",
       "      <td>Компании, которые частично или полностью прина...</td>\n",
       "      <td>NaN</td>\n",
       "      <td>что такой закупка</td>\n",
       "      <td>[0.0, 0.0, 0.0, 0.0, 0.0, 0.0, 0.0, 0.0, 0.0, ...</td>\n",
       "    </tr>\n",
       "    <tr>\n",
       "      <th>1</th>\n",
       "      <td>2</td>\n",
       "      <td>Какие группы закупок в зависимости от заказчиков?</td>\n",
       "      <td>Закупки делят на три группы в зависимости от з...</td>\n",
       "      <td>NaN</td>\n",
       "      <td>какой группа закупка в зависимость от заказчик</td>\n",
       "      <td>[0.0, 0.0, 0.0, 0.0, 0.0, 0.0, 0.0, 0.0, 0.0, ...</td>\n",
       "    </tr>\n",
       "    <tr>\n",
       "      <th>2</th>\n",
       "      <td>3</td>\n",
       "      <td>Где и как искать закупки?</td>\n",
       "      <td>Закупки по 44-ФЗ обязательно публикуются на za...</td>\n",
       "      <td>NaN</td>\n",
       "      <td>где и как искать закупка</td>\n",
       "      <td>[0.0, 0.0, 0.0, 0.0, 0.0, 0.0, 0.0, 0.0, 0.0, ...</td>\n",
       "    </tr>\n",
       "    <tr>\n",
       "      <th>3</th>\n",
       "      <td>4</td>\n",
       "      <td>Что такое извещение о закупке?</td>\n",
       "      <td>Извещение о закупке — документ, объявляющий о ...</td>\n",
       "      <td>NaN</td>\n",
       "      <td>что такой извещение о закупка</td>\n",
       "      <td>[0.0, 0.0, 0.0, 0.0, 0.0, 0.0, 0.0, 0.0, 0.0, ...</td>\n",
       "    </tr>\n",
       "    <tr>\n",
       "      <th>4</th>\n",
       "      <td>5</td>\n",
       "      <td>Состав извещения о закупке</td>\n",
       "      <td>Заказчики по 44-ФЗ и 223-ФЗ всегда указывают в...</td>\n",
       "      <td>NaN</td>\n",
       "      <td>состав извещение о закупка</td>\n",
       "      <td>[0.0, 0.0, 0.0, 0.0, 0.0, 0.0, 0.0, 0.0, 0.0, ...</td>\n",
       "    </tr>\n",
       "  </tbody>\n",
       "</table>\n",
       "</div>"
      ],
      "text/plain": [
       "   id                                             Вопрос  \\\n",
       "0   1                                 Что такое закупка?   \n",
       "1   2  Какие группы закупок в зависимости от заказчиков?   \n",
       "2   3                          Где и как искать закупки?   \n",
       "3   4                     Что такое извещение о закупке?   \n",
       "4   5                         Состав извещения о закупке   \n",
       "\n",
       "                                               Ответ Источник  \\\n",
       "0  Компании, которые частично или полностью прина...      NaN   \n",
       "1  Закупки делят на три группы в зависимости от з...      NaN   \n",
       "2  Закупки по 44-ФЗ обязательно публикуются на za...      NaN   \n",
       "3  Извещение о закупке — документ, объявляющий о ...      NaN   \n",
       "4  Заказчики по 44-ФЗ и 223-ФЗ всегда указывают в...      NaN   \n",
       "\n",
       "                                            clean  \\\n",
       "0                               что такой закупка   \n",
       "1  какой группа закупка в зависимость от заказчик   \n",
       "2                        где и как искать закупка   \n",
       "3                   что такой извещение о закупка   \n",
       "4                      состав извещение о закупка   \n",
       "\n",
       "                                               embed  \n",
       "0  [0.0, 0.0, 0.0, 0.0, 0.0, 0.0, 0.0, 0.0, 0.0, ...  \n",
       "1  [0.0, 0.0, 0.0, 0.0, 0.0, 0.0, 0.0, 0.0, 0.0, ...  \n",
       "2  [0.0, 0.0, 0.0, 0.0, 0.0, 0.0, 0.0, 0.0, 0.0, ...  \n",
       "3  [0.0, 0.0, 0.0, 0.0, 0.0, 0.0, 0.0, 0.0, 0.0, ...  \n",
       "4  [0.0, 0.0, 0.0, 0.0, 0.0, 0.0, 0.0, 0.0, 0.0, ...  "
      ]
     },
     "execution_count": 78,
     "metadata": {},
     "output_type": "execute_result"
    }
   ],
   "source": [
    "data.head()"
   ]
  },
  {
   "cell_type": "code",
   "execution_count": 79,
   "id": "5cfe3b6e",
   "metadata": {},
   "outputs": [
    {
     "data": {
      "text/plain": [
       "True"
      ]
     },
     "execution_count": 79,
     "metadata": {},
     "output_type": "execute_result"
    }
   ],
   "source": [
    "#\"angular\", \"euclidean\", \"manhattan\", \"hamming\", or \"dot\" 384 768 1024\n",
    "f=len(X_tfidf[0])\n",
    "t = AnnoyIndex(f, metric = 'angular')\n",
    "\n",
    "# train['id'], \n",
    "for user_id, user_embedding in enumerate(data['embed']):\n",
    "    t.add_item(user_id, user_embedding)\n",
    "t.build(-1)"
   ]
  },
  {
   "cell_type": "code",
   "execution_count": 80,
   "id": "946c0bd7",
   "metadata": {},
   "outputs": [
    {
     "data": {
      "text/plain": [
       "True"
      ]
     },
     "execution_count": 80,
     "metadata": {},
     "output_type": "execute_result"
    }
   ],
   "source": [
    "#сохранение индекса\n",
    "t.save('atom-bot/model/train.ann')\n",
    "\n",
    "#t = AnnoyIndex(f, 'angular')\n",
    "#t.load('train.ann') "
   ]
  },
  {
   "cell_type": "code",
   "execution_count": 81,
   "id": "de504829",
   "metadata": {},
   "outputs": [],
   "source": [
    "def predict_nns(find, df, n=1):\n",
    "    user_embed = tfidf_featuring(tfidf, [find])[0]\n",
    "    idx, dist = t.get_nns_by_vector(user_embed, 1, search_k=-1, include_distances=True)  \n",
    "    if dist[0] < 1.1:\n",
    "        return df['Ответ'][idx].values[0], df['Источник'][idx].values[0]\n",
    "    else:\n",
    "        return \"Не могу ответить на вопрос\", ' '"
   ]
  },
  {
   "cell_type": "code",
   "execution_count": 82,
   "id": "43481be4",
   "metadata": {},
   "outputs": [
    {
     "data": {
      "text/plain": [
       "('Не могу ответить на вопрос', ' ')"
      ]
     },
     "execution_count": 82,
     "metadata": {},
     "output_type": "execute_result"
    }
   ],
   "source": [
    "find=full_clean(\"Какие можно дать советы постановщику задач?\")\n",
    "predict_nns(find, data)"
   ]
  },
  {
   "cell_type": "code",
   "execution_count": 83,
   "id": "7eccc9fb",
   "metadata": {},
   "outputs": [
    {
     "data": {
      "text/plain": [
       "('услуги банков и небанковских кредитных организаций, услуги на рынке ценных бумаг, а также услуги, связанные с предоставлением гарантий (поручительств), с привлечением и/или размещением денежных средств юридических и физических лиц (за исключением услуг страхования и лизинга), оказываемые в соответствии с законодательством;',\n",
       " 'ЕОСЗ Термины и определения')"
      ]
     },
     "execution_count": 83,
     "metadata": {},
     "output_type": "execute_result"
    }
   ],
   "source": [
    "find=full_clean(\"Что понимается под продукцией по ЕОСЗ?\")\n",
    "predict_nns(find, data)"
   ]
  },
  {
   "cell_type": "code",
   "execution_count": 84,
   "id": "551e8b56",
   "metadata": {},
   "outputs": [
    {
     "data": {
      "text/plain": [
       "('Закупки за счёт средств федерального бюджета:\\n- № 44-ФЗ «О контрактной системе в сфере закупок товаров, работ, услуг для обеспечения государственных и муниципальных нужд»\\nЗакупки за счёт собственных средств:\\n- № 223-ФЗ «О закупках товаров, работ, услуг отдельными видами юридических лиц»\\n- ЕОСЗ «Единый отраслевой стандарт закупок (Положение о Закупке) Госкорпорации «Росатом»»\\nЗакупочную деятельность атомной отрасли регулируют так же и другие нормативно-правовые акты РФ, в том числе Конституция, Гражданский и Административный кодекс, Закон о конкуренции и прочие',\n",
       " 'ЕОСЗ')"
      ]
     },
     "execution_count": 84,
     "metadata": {},
     "output_type": "execute_result"
    }
   ],
   "source": [
    "find=full_clean(\"Какие законы регулируют закупочную деятельность?\")\n",
    "predict_nns(find, data)"
   ]
  },
  {
   "cell_type": "code",
   "execution_count": null,
   "id": "eeaf1297",
   "metadata": {},
   "outputs": [],
   "source": []
  },
  {
   "cell_type": "markdown",
   "id": "baec4efa",
   "metadata": {},
   "source": [
    "Семантический поиск"
   ]
  },
  {
   "cell_type": "code",
   "execution_count": 85,
   "id": "64c972fc",
   "metadata": {},
   "outputs": [
    {
     "data": {
      "text/html": [
       "<div>\n",
       "<style scoped>\n",
       "    .dataframe tbody tr th:only-of-type {\n",
       "        vertical-align: middle;\n",
       "    }\n",
       "\n",
       "    .dataframe tbody tr th {\n",
       "        vertical-align: top;\n",
       "    }\n",
       "\n",
       "    .dataframe thead th {\n",
       "        text-align: right;\n",
       "    }\n",
       "</style>\n",
       "<table border=\"1\" class=\"dataframe\">\n",
       "  <thead>\n",
       "    <tr style=\"text-align: right;\">\n",
       "      <th></th>\n",
       "      <th>id</th>\n",
       "      <th>title</th>\n",
       "      <th>text</th>\n",
       "      <th>source</th>\n",
       "    </tr>\n",
       "  </thead>\n",
       "  <tbody>\n",
       "    <tr>\n",
       "      <th>0</th>\n",
       "      <td>1</td>\n",
       "      <td>ПОЛИТИКА АТОМНОЙ ОТРАСЛИ В ОБЛАСТИ ЗАКУПОК</td>\n",
       "      <td>Статья 1.1. Цели настоящего Стандарта \\nСтанда...</td>\n",
       "      <td>ЕОСЗ Глава 1</td>\n",
       "    </tr>\n",
       "    <tr>\n",
       "      <th>1</th>\n",
       "      <td>2</td>\n",
       "      <td>СФЕРА ПРИМЕНЕНИЯ СТАНДАРТА</td>\n",
       "      <td>Статья 2.1. Область применения Стандарта\\nСтан...</td>\n",
       "      <td>ЕОСЗ Глава 2</td>\n",
       "    </tr>\n",
       "    <tr>\n",
       "      <th>2</th>\n",
       "      <td>3</td>\n",
       "      <td>ГЛАВА 3. ФУНКЦИИ И ПОЛНОМОЧИЯ</td>\n",
       "      <td>Статья 3.1. Функции и полномочия Корпорации, е...</td>\n",
       "      <td>ЕОСЗ Глава 3</td>\n",
       "    </tr>\n",
       "    <tr>\n",
       "      <th>3</th>\n",
       "      <td>4</td>\n",
       "      <td>ГЛАВА 3. ФУНКЦИИ И ПОЛНОМОЧИЯ</td>\n",
       "      <td>Статья 3.3. Функции и полномочия отдельных суб...</td>\n",
       "      <td>ЕОСЗ Глава 3</td>\n",
       "    </tr>\n",
       "    <tr>\n",
       "      <th>4</th>\n",
       "      <td>5</td>\n",
       "      <td>ГЛАВА 4. ПЛАНИРОВАНИЕ ЗАКУПОК</td>\n",
       "      <td>Статья 4.1. Формирование и корректировка ГПЗ. ...</td>\n",
       "      <td>ЕОСЗ Глава 4</td>\n",
       "    </tr>\n",
       "  </tbody>\n",
       "</table>\n",
       "</div>"
      ],
      "text/plain": [
       "   id                                       title  \\\n",
       "0   1  ПОЛИТИКА АТОМНОЙ ОТРАСЛИ В ОБЛАСТИ ЗАКУПОК   \n",
       "1   2                  СФЕРА ПРИМЕНЕНИЯ СТАНДАРТА   \n",
       "2   3               ГЛАВА 3. ФУНКЦИИ И ПОЛНОМОЧИЯ   \n",
       "3   4               ГЛАВА 3. ФУНКЦИИ И ПОЛНОМОЧИЯ   \n",
       "4   5               ГЛАВА 4. ПЛАНИРОВАНИЕ ЗАКУПОК   \n",
       "\n",
       "                                                text        source  \n",
       "0  Статья 1.1. Цели настоящего Стандарта \\nСтанда...  ЕОСЗ Глава 1  \n",
       "1  Статья 2.1. Область применения Стандарта\\nСтан...  ЕОСЗ Глава 2  \n",
       "2  Статья 3.1. Функции и полномочия Корпорации, е...  ЕОСЗ Глава 3  \n",
       "3  Статья 3.3. Функции и полномочия отдельных суб...  ЕОСЗ Глава 3  \n",
       "4  Статья 4.1. Формирование и корректировка ГПЗ. ...  ЕОСЗ Глава 4  "
      ]
     },
     "execution_count": 85,
     "metadata": {},
     "output_type": "execute_result"
    }
   ],
   "source": [
    "data1 = pd.read_csv('BD.csv', index_col=None, sep=\",\")[[\"id\", 'title', \"text\", \"source\"]]\n",
    "data1.head()"
   ]
  },
  {
   "cell_type": "code",
   "execution_count": 86,
   "id": "b94e4dd3",
   "metadata": {},
   "outputs": [],
   "source": [
    "data1['clean'] = data1['text'].apply(lambda x: full_clean(x))"
   ]
  },
  {
   "cell_type": "code",
   "execution_count": 87,
   "id": "277940c3",
   "metadata": {},
   "outputs": [
    {
     "data": {
      "text/html": [
       "<style>#sk-container-id-5 {color: black;}#sk-container-id-5 pre{padding: 0;}#sk-container-id-5 div.sk-toggleable {background-color: white;}#sk-container-id-5 label.sk-toggleable__label {cursor: pointer;display: block;width: 100%;margin-bottom: 0;padding: 0.3em;box-sizing: border-box;text-align: center;}#sk-container-id-5 label.sk-toggleable__label-arrow:before {content: \"▸\";float: left;margin-right: 0.25em;color: #696969;}#sk-container-id-5 label.sk-toggleable__label-arrow:hover:before {color: black;}#sk-container-id-5 div.sk-estimator:hover label.sk-toggleable__label-arrow:before {color: black;}#sk-container-id-5 div.sk-toggleable__content {max-height: 0;max-width: 0;overflow: hidden;text-align: left;background-color: #f0f8ff;}#sk-container-id-5 div.sk-toggleable__content pre {margin: 0.2em;color: black;border-radius: 0.25em;background-color: #f0f8ff;}#sk-container-id-5 input.sk-toggleable__control:checked~div.sk-toggleable__content {max-height: 200px;max-width: 100%;overflow: auto;}#sk-container-id-5 input.sk-toggleable__control:checked~label.sk-toggleable__label-arrow:before {content: \"▾\";}#sk-container-id-5 div.sk-estimator input.sk-toggleable__control:checked~label.sk-toggleable__label {background-color: #d4ebff;}#sk-container-id-5 div.sk-label input.sk-toggleable__control:checked~label.sk-toggleable__label {background-color: #d4ebff;}#sk-container-id-5 input.sk-hidden--visually {border: 0;clip: rect(1px 1px 1px 1px);clip: rect(1px, 1px, 1px, 1px);height: 1px;margin: -1px;overflow: hidden;padding: 0;position: absolute;width: 1px;}#sk-container-id-5 div.sk-estimator {font-family: monospace;background-color: #f0f8ff;border: 1px dotted black;border-radius: 0.25em;box-sizing: border-box;margin-bottom: 0.5em;}#sk-container-id-5 div.sk-estimator:hover {background-color: #d4ebff;}#sk-container-id-5 div.sk-parallel-item::after {content: \"\";width: 100%;border-bottom: 1px solid gray;flex-grow: 1;}#sk-container-id-5 div.sk-label:hover label.sk-toggleable__label {background-color: #d4ebff;}#sk-container-id-5 div.sk-serial::before {content: \"\";position: absolute;border-left: 1px solid gray;box-sizing: border-box;top: 0;bottom: 0;left: 50%;z-index: 0;}#sk-container-id-5 div.sk-serial {display: flex;flex-direction: column;align-items: center;background-color: white;padding-right: 0.2em;padding-left: 0.2em;position: relative;}#sk-container-id-5 div.sk-item {position: relative;z-index: 1;}#sk-container-id-5 div.sk-parallel {display: flex;align-items: stretch;justify-content: center;background-color: white;position: relative;}#sk-container-id-5 div.sk-item::before, #sk-container-id-5 div.sk-parallel-item::before {content: \"\";position: absolute;border-left: 1px solid gray;box-sizing: border-box;top: 0;bottom: 0;left: 50%;z-index: -1;}#sk-container-id-5 div.sk-parallel-item {display: flex;flex-direction: column;z-index: 1;position: relative;background-color: white;}#sk-container-id-5 div.sk-parallel-item:first-child::after {align-self: flex-end;width: 50%;}#sk-container-id-5 div.sk-parallel-item:last-child::after {align-self: flex-start;width: 50%;}#sk-container-id-5 div.sk-parallel-item:only-child::after {width: 0;}#sk-container-id-5 div.sk-dashed-wrapped {border: 1px dashed gray;margin: 0 0.4em 0.5em 0.4em;box-sizing: border-box;padding-bottom: 0.4em;background-color: white;}#sk-container-id-5 div.sk-label label {font-family: monospace;font-weight: bold;display: inline-block;line-height: 1.2em;}#sk-container-id-5 div.sk-label-container {text-align: center;}#sk-container-id-5 div.sk-container {/* jupyter's `normalize.less` sets `[hidden] { display: none; }` but bootstrap.min.css set `[hidden] { display: none !important; }` so we also need the `!important` here to be able to override the default hidden behavior on the sphinx rendered scikit-learn.org. See: https://github.com/scikit-learn/scikit-learn/issues/21755 */display: inline-block !important;position: relative;}#sk-container-id-5 div.sk-text-repr-fallback {display: none;}</style><div id=\"sk-container-id-5\" class=\"sk-top-container\"><div class=\"sk-text-repr-fallback\"><pre>TfidfVectorizer(max_features=2000, ngram_range=(1, 2), sublinear_tf=True,\n",
       "                token_pattern=&#x27;(?u)\\\\b[а-яА-ЯёЁa-zA-Z][а-яА-ЯёЁa-zA-Z]+\\\\b&#x27;)</pre><b>In a Jupyter environment, please rerun this cell to show the HTML representation or trust the notebook. <br />On GitHub, the HTML representation is unable to render, please try loading this page with nbviewer.org.</b></div><div class=\"sk-container\" hidden><div class=\"sk-item\"><div class=\"sk-estimator sk-toggleable\"><input class=\"sk-toggleable__control sk-hidden--visually\" id=\"sk-estimator-id-5\" type=\"checkbox\" checked><label for=\"sk-estimator-id-5\" class=\"sk-toggleable__label sk-toggleable__label-arrow\">TfidfVectorizer</label><div class=\"sk-toggleable__content\"><pre>TfidfVectorizer(max_features=2000, ngram_range=(1, 2), sublinear_tf=True,\n",
       "                token_pattern=&#x27;(?u)\\\\b[а-яА-ЯёЁa-zA-Z][а-яА-ЯёЁa-zA-Z]+\\\\b&#x27;)</pre></div></div></div></div></div>"
      ],
      "text/plain": [
       "TfidfVectorizer(max_features=2000, ngram_range=(1, 2), sublinear_tf=True,\n",
       "                token_pattern='(?u)\\\\b[а-яА-ЯёЁa-zA-Z][а-яА-ЯёЁa-zA-Z]+\\\\b')"
      ]
     },
     "execution_count": 87,
     "metadata": {},
     "output_type": "execute_result"
    }
   ],
   "source": [
    "#тренировка модели token_pattern=r'(?u)\\b\\w\\w+\\b'\n",
    "tfidf = TfidfVectorizer(max_features=2000, #max_df = 0.9,\n",
    "                        #analyzer='char_wb', ngram_range=(3, 5), \n",
    "                        analyzer='word', ngram_range=(1, 2), \n",
    "                        token_pattern=r'(?u)\\b[а-яА-ЯёЁa-zA-Z][а-яА-ЯёЁa-zA-Z]+\\b',\n",
    "                        #tokenizer=lemmatize,\n",
    "                        lowercase = True, sublinear_tf=True)\n",
    "tfidf.fit(data1['clean'])"
   ]
  },
  {
   "cell_type": "code",
   "execution_count": 88,
   "id": "d2bd7e06",
   "metadata": {},
   "outputs": [
    {
     "data": {
      "text/plain": [
       "['atom-bot/model/tfidf1.pkl']"
      ]
     },
     "execution_count": 88,
     "metadata": {},
     "output_type": "execute_result"
    }
   ],
   "source": [
    "#```Сохранение результатов TfidfVectorizer для веб-приложения\n",
    "joblib.dump(tfidf, 'atom-bot/model/tfidf1.pkl') \n",
    "#Загрузка\n",
    "#tfidf = joblib.load('tfidf.pkl')``` \n"
   ]
  },
  {
   "cell_type": "code",
   "execution_count": 97,
   "id": "b985d399",
   "metadata": {},
   "outputs": [
    {
     "data": {
      "text/html": [
       "<div>\n",
       "<style scoped>\n",
       "    .dataframe tbody tr th:only-of-type {\n",
       "        vertical-align: middle;\n",
       "    }\n",
       "\n",
       "    .dataframe tbody tr th {\n",
       "        vertical-align: top;\n",
       "    }\n",
       "\n",
       "    .dataframe thead th {\n",
       "        text-align: right;\n",
       "    }\n",
       "</style>\n",
       "<table border=\"1\" class=\"dataframe\">\n",
       "  <thead>\n",
       "    <tr style=\"text-align: right;\">\n",
       "      <th></th>\n",
       "      <th>id</th>\n",
       "      <th>title</th>\n",
       "      <th>text</th>\n",
       "      <th>source</th>\n",
       "      <th>clean</th>\n",
       "      <th>embed</th>\n",
       "    </tr>\n",
       "  </thead>\n",
       "  <tbody>\n",
       "    <tr>\n",
       "      <th>0</th>\n",
       "      <td>1</td>\n",
       "      <td>ПОЛИТИКА АТОМНОЙ ОТРАСЛИ В ОБЛАСТИ ЗАКУПОК</td>\n",
       "      <td>Статья 1.1. Цели настоящего Стандарта \\nСтанда...</td>\n",
       "      <td>ЕОСЗ Глава 1</td>\n",
       "      <td>статья 1 1 цель настоящий стандарт стандарт ра...</td>\n",
       "      <td>[0.0, 0.0, 0.0, 0.0, 0.0, 0.0, 0.0, 0.0, 0.0, ...</td>\n",
       "    </tr>\n",
       "    <tr>\n",
       "      <th>1</th>\n",
       "      <td>2</td>\n",
       "      <td>СФЕРА ПРИМЕНЕНИЯ СТАНДАРТА</td>\n",
       "      <td>Статья 2.1. Область применения Стандарта\\nСтан...</td>\n",
       "      <td>ЕОСЗ Глава 2</td>\n",
       "      <td>статья 2 1 область применение стандарт стандар...</td>\n",
       "      <td>[0.0, 0.0, 0.0, 0.0, 0.0, 0.0, 0.0, 0.0, 0.040...</td>\n",
       "    </tr>\n",
       "    <tr>\n",
       "      <th>2</th>\n",
       "      <td>3</td>\n",
       "      <td>ГЛАВА 3. ФУНКЦИИ И ПОЛНОМОЧИЯ</td>\n",
       "      <td>Статья 3.1. Функции и полномочия Корпорации, е...</td>\n",
       "      <td>ЕОСЗ Глава 3</td>\n",
       "      <td>статья 3 1 функция и полномочие корпорация ее ...</td>\n",
       "      <td>[0.0, 0.0, 0.07022684166223907, 0.0, 0.0, 0.0,...</td>\n",
       "    </tr>\n",
       "    <tr>\n",
       "      <th>3</th>\n",
       "      <td>4</td>\n",
       "      <td>ГЛАВА 3. ФУНКЦИИ И ПОЛНОМОЧИЯ</td>\n",
       "      <td>Статья 3.3. Функции и полномочия отдельных суб...</td>\n",
       "      <td>ЕОСЗ Глава 3</td>\n",
       "      <td>статья 3 3 функция и полномочие отдельный субъ...</td>\n",
       "      <td>[0.0, 0.0, 0.0, 0.0, 0.0, 0.0, 0.0524200278793...</td>\n",
       "    </tr>\n",
       "    <tr>\n",
       "      <th>4</th>\n",
       "      <td>5</td>\n",
       "      <td>ГЛАВА 4. ПЛАНИРОВАНИЕ ЗАКУПОК</td>\n",
       "      <td>Статья 4.1. Формирование и корректировка ГПЗ. ...</td>\n",
       "      <td>ЕОСЗ Глава 4</td>\n",
       "      <td>статья 4 1 формирование и корректировка гпз ра...</td>\n",
       "      <td>[0.0, 0.0, 0.0, 0.0, 0.0, 0.0, 0.0, 0.0, 0.0, ...</td>\n",
       "    </tr>\n",
       "  </tbody>\n",
       "</table>\n",
       "</div>"
      ],
      "text/plain": [
       "   id                                       title  \\\n",
       "0   1  ПОЛИТИКА АТОМНОЙ ОТРАСЛИ В ОБЛАСТИ ЗАКУПОК   \n",
       "1   2                  СФЕРА ПРИМЕНЕНИЯ СТАНДАРТА   \n",
       "2   3               ГЛАВА 3. ФУНКЦИИ И ПОЛНОМОЧИЯ   \n",
       "3   4               ГЛАВА 3. ФУНКЦИИ И ПОЛНОМОЧИЯ   \n",
       "4   5               ГЛАВА 4. ПЛАНИРОВАНИЕ ЗАКУПОК   \n",
       "\n",
       "                                                text        source  \\\n",
       "0  Статья 1.1. Цели настоящего Стандарта \\nСтанда...  ЕОСЗ Глава 1   \n",
       "1  Статья 2.1. Область применения Стандарта\\nСтан...  ЕОСЗ Глава 2   \n",
       "2  Статья 3.1. Функции и полномочия Корпорации, е...  ЕОСЗ Глава 3   \n",
       "3  Статья 3.3. Функции и полномочия отдельных суб...  ЕОСЗ Глава 3   \n",
       "4  Статья 4.1. Формирование и корректировка ГПЗ. ...  ЕОСЗ Глава 4   \n",
       "\n",
       "                                               clean  \\\n",
       "0  статья 1 1 цель настоящий стандарт стандарт ра...   \n",
       "1  статья 2 1 область применение стандарт стандар...   \n",
       "2  статья 3 1 функция и полномочие корпорация ее ...   \n",
       "3  статья 3 3 функция и полномочие отдельный субъ...   \n",
       "4  статья 4 1 формирование и корректировка гпз ра...   \n",
       "\n",
       "                                               embed  \n",
       "0  [0.0, 0.0, 0.0, 0.0, 0.0, 0.0, 0.0, 0.0, 0.0, ...  \n",
       "1  [0.0, 0.0, 0.0, 0.0, 0.0, 0.0, 0.0, 0.0, 0.040...  \n",
       "2  [0.0, 0.0, 0.07022684166223907, 0.0, 0.0, 0.0,...  \n",
       "3  [0.0, 0.0, 0.0, 0.0, 0.0, 0.0, 0.0524200278793...  \n",
       "4  [0.0, 0.0, 0.0, 0.0, 0.0, 0.0, 0.0, 0.0, 0.0, ...  "
      ]
     },
     "execution_count": 97,
     "metadata": {},
     "output_type": "execute_result"
    }
   ],
   "source": [
    "# Мешок слов по всем текстам, тренирвочным и тестовым вместе\n",
    "X_tfidf1 = tfidf_featuring(tfidf, data1['clean'])\n",
    "data1['embed']=X_tfidf1\n",
    "data1.head()"
   ]
  },
  {
   "cell_type": "code",
   "execution_count": 90,
   "id": "a10f1b3b",
   "metadata": {},
   "outputs": [
    {
     "data": {
      "text/plain": [
       "True"
      ]
     },
     "execution_count": 90,
     "metadata": {},
     "output_type": "execute_result"
    }
   ],
   "source": [
    "#\"angular\", \"euclidean\", \"manhattan\", \"hamming\", or \"dot\" 384 768 1024\n",
    "f=len(X_tfidf1[0])\n",
    "t1 = AnnoyIndex(f, metric = 'angular')\n",
    "\n",
    "# train['id'], \n",
    "for user_id, user_embedding in enumerate(X_tfidf1):\n",
    "    t1.add_item(user_id, user_embedding)\n",
    "t1.build(-1)"
   ]
  },
  {
   "cell_type": "code",
   "execution_count": 91,
   "id": "9d2d020f",
   "metadata": {},
   "outputs": [
    {
     "data": {
      "text/plain": [
       "2000"
      ]
     },
     "execution_count": 91,
     "metadata": {},
     "output_type": "execute_result"
    }
   ],
   "source": [
    "f"
   ]
  },
  {
   "cell_type": "code",
   "execution_count": 92,
   "id": "a86abee4",
   "metadata": {},
   "outputs": [],
   "source": [
    "def predict_nns_1(find, df, n=1):\n",
    "    user_embed = tfidf_featuring(tfidf, [find])[0]\n",
    "    idx, dist = t1.get_nns_by_vector(user_embed, 1, search_k=-1, include_distances=True)  \n",
    "    if dist[0] < 1.5:\n",
    "        return df['text'][idx[0]]\n",
    "    else:\n",
    "        return \"Не могу ответить на вопрос\", ' '"
   ]
  },
  {
   "cell_type": "code",
   "execution_count": 93,
   "id": "51aee35f",
   "metadata": {},
   "outputs": [],
   "source": [
    "find=\"Что должен содержать запрос ТКП?\""
   ]
  },
  {
   "cell_type": "code",
   "execution_count": 94,
   "id": "7a202a6a",
   "metadata": {},
   "outputs": [],
   "source": [
    "#find=\"В каких случаях конкурентная закупка признается несостоявшейся?\"\n",
    "sentence = predict_nns_1(find, data1)"
   ]
  },
  {
   "cell_type": "code",
   "execution_count": 95,
   "id": "7b8d479b",
   "metadata": {},
   "outputs": [
    {
     "data": {
      "text/plain": [
       "'Статья 6.3. Особенности проведения конкурентных закупок в закрытой форме\\nПри проведении конкурентной закупки в закрытой форме применяются общие положения Стандарта о порядке проведения открытых конкурентных закупок (ст. 6.2), положения о порядке проведения соответствующей конкурентной закупки (приложение № 12) с учетом требований настоящей статьи.\\nК участию в закрытой конкурентной закупке допускаются только поставщики, приглашенные организатором закупки. В обязательном порядке приглашения направляются организациям атомной отрасли и организациям, являющимся изготовителями закупаемой продукции. Перечень таких поставщиков определяется заказчиком совместно с организатором закупки. При этом приглашение к участию в закрытой закупке не направляется поставщику, сведения о котором содержатся в РНП (глава 10).\\nОдновременно с размещением извещения о закупке на официальных сайтах (если подлежит размещению в соответствии со ст. 6.2.1) организатор закупки обязан направить всем поставщикам, приглашаемым для участия в закрытой закупке, письмо-приглашение, содержащее ссылку на размещенное на официальных сайтах извещение. В случае если в соответствии с ч. 4 ст. 6.2.1 извещение не подлежит размещению на официальных сайтах, письма-приглашения направляются с приложением копии извещения, с учетом требований о предоставлении информации в усеченном виде в соответствии с ч. 5 ст. 6.2.1. \\nПредоставление закупочной документации (в том числе изменений, разъяснений документации) осуществляется по письменному запросу участника закрытой конкурентной закупки, в порядке, указанном в письме-приглашении. Срок предоставления запрашиваемых сведений и документов составляет 2 рабочих дня с даты получения организатором закупки указанного запроса.\\nВ случае если протоколы не подлежат размещению в соответствии со ст. 6.2.1, то копии протокола вскрытия конвертов и протокола заседания по рассмотрению заявок на отборочной стадии направляется всем участникам, подавшим заявки, копии остальных протоколов направляются всем допущенным участникам. \\nДокументы, указанные в чч. 4 – 5 настоящей статьи, направляются участникам одновременно с одинаковым содержанием.\\nОбмен сведениями и документами в рамках закрытой закупки осуществляется в соответствии с требованиями закупочной документации и правилами документооборота, установленными законодательством РФ и иными актами в области защиты государственной тайны и иных сведений ограниченного доступа.\\nДля заказчиков первой группы особенности документооборота при осуществлении закрытых конкурентных закупок в электронной форме, а также перечень операторов электронных площадок для осуществления закрытых конкурентных закупок определяются Правительством РФ.\\n\\nСтатья 6.4. Действия по результатам несостоявшихся конкурентных закупок\\nКонкурентная закупка признается несостоявшейся, если:\\nпо окончании срока подачи заявок:\\nподана только одна заявка от одного участника (с учетом отозванных участником заявок);\\nне подано ни одной заявки (с учетом отозванных участником заявок).\\nпо результатам рассмотрения заявок принято решение:\\nоб отказе в допуске всем участникам закупки, подавшим заявки (для аукциона (редукциона) в электронной форме дополнительно – об отклонении при рассмотрении вторых частей заявок всех участников закупки);\\nо допуске только одного участника закупки.\\nАукцион/редукцион признается несостоявшимся по основаниям части 1 настоящей статьи, а также если:\\nна аукцион/редукцион в неэлектронной (бумажной) форме не явился ни один участник;\\nна аукцион/редукцион в неэлектронной (бумажной) форме явился только один участник;\\nни один участник аукциона/редукциона в неэлектронной (бумажной) форме, явившийся на аукцион/редукцион, не подал ни одного предложения по цене договора;\\nв течение 30 минут после начала проведения аукциона/редукциона в электронной форме не подано ни одного предложения о цене договора.\\nПри проведении многолотовой закупки, закупка признается несостоявшейся только по тому лоту, в отношении которого выполняются положения частей 1 – 2 настоящей статьи.\\nВ случае если подана только одна заявка от одного участника (с учетом отозванных участником заявок) и закупочной комиссией принято решение о допуске участника, подавшего такую заявку, к участию в закупке, либо принято решение о допуске только одного участника закупки, заказчик выполняет одно из следующих действий:\\nпри наличии экономической целесообразности заключает договор с единственным участником конкурентной закупки в соответствии с п. а) ч. 1 ст. 9.1, если иное не установлено полномочиями РО дивизионов, а также при условии уведомления в письменной форме единственного участника конкурентной закупки о принятом решении не позднее 5 рабочих дней со дня размещения на официальном сайте протокола подведения итогов конкурентной закупки; \\nпроводит повторную закупку. При этом для повторной закупки применяется тот же способ закупки либо: при несостоявшемся конкурсе – запрос предложений, при несостоявшемся аукционе/ редукционе – запрос котировок. При проведении повторной закупки заказчик проводит анализ, условий закупки и требований и корректирует их (при необходимости), а также вносит соответствующие корректировки в ГПЗ (ч. 7 ст. 4.1);\\nотказывается от заключения договора по следующим основаниям (при этом заказчик проводит оценку рисков возникновения негативных последствий при отказе от заключения договора и несет ответственность за экономическую эффективность такой закупки) (с учетом положений ст. 9.4):\\n1)\\tизменение финансовых, инвестиционных, производственных и иных программ, оказавших влияние на потребность в данной закупке;\\n2)\\tизменение потребности в продукции, в том числе изменение характеристик продукции, при наличии утверждения таких изменений руководителем заказчика;\\n3)\\tпри возникновении обстоятельств непреодолимой силы, подтвержденных соответствующим документом и влияющих на целесообразность закупки;\\n4)\\tнеобходимость исполнения предписаний антимонопольного органа и/или рекомендаций ЦАК, АК и/или иного уполномоченного контролирующего органа;\\n5)\\tизменение законодательства РФ, нормативных правовых актов, издание актов федеральных органов исполнительной власти, влияющих на возможность и/или целесообразность проведения закупки.\\nВ случае если не подано ни одной заявки (с учетом отозванных участником заявок) либо принято решение об отказе в допуске всем участникам закупки, подавшим заявки, либо аукцион/редукцион признан несостоявшимся по основаниям, указанным в п.п. а), в), г) ч. 2 настоящей статьи, заказчик выполняет одно из следующих действий: \\nпроводит повторную закупку. При этом для повторной закупки применяется тот же способ закупки либо: при несостоявшемся конкурсе – запрос предложений, при несостоявшемся аукционе/ редукционе – запрос котировок. При проведении повторной закупки заказчик проводит анализ причин, по которым закупка не состоялась и на основе данного анализа, при наличии возможности, корректирует условия закупки, а также вносит в зависимости от планируемой даты заключения договора соответствующие корректировки в ГПЗ текущего или следующего года (ч. 7 ст. 4.1);\\nпринимает решение об осуществлении упрощенной закупки в соответствии с п. б) ч. 1 ст. 3.4 либо обращается за разрешением на проведение упрощенной закупки в РО в соответствии с их полномочиями;\\nвне зависимости от суммы несостоявшейся закупки принимает решение о прямой закупке у единственного поставщика при условии, что такой единственный поставщик и его предложение соответствуют требованиям, установленным в закупочной документации несостоявшейся конкурентной закупки;\\nотказывается от проведения закупки.\\n\\nСтатья 6.5. Порядок проведения неконкурентных закупок\\nПри проведении неконкурентной закупки осуществляется:\\n- определение поставщика;\\n- проведение переговоров по снижению цены (в случае закупки финансовых услуг указанные переговоры проводятся по решению заказчика);\\n-  размещение сведений и документов по закупке на официальных сайтах;\\n- подведение, оформление и публикация итогов закупки.\\nПри проведении неконкурентных закупок заказчик, УО руководствуются требованиями законодательства РФ, Стандарта и распорядительных документов Корпорации, в том числе в области защиты государственной тайны и иных сведений ограниченного доступа.\\nНеконкурентные закупки проводятся в порядке, установленном в разделе 6 приложения № 12, с учетом требований настоящей статьи.\\nПри определении поставщика при проведении неконкурентной закупки заказчик должен убедиться, как минимум:\\nв наличии общей и специальной (если для выполнения договора необходимо наличие разрешающих документов) правоспособности поставщика;\\nв наличии у поставщика материальных и кадровых ресурсов для исполнения договора.\\nРешение о проведении неконкурентной закупки принимается заказчиком в пределах полномочий, предусмотренных Стандартом. \\nРазмещение сведений и документов по неконкурентной закупке на официальных сайтах осуществляется в порядке, установленном в разделе 6 приложения № 12, с учетом положений ст. 6.2.1.\\nДоговор по итогам неконкурентной закупки заключается в порядке и сроки, установленные главой 9.\\n\\nСтатья 6.6. Особенности проведения закупок для заказчиков первой группы при предоставлении преференций.\\n1. В случае, если к закупке применяются преференции в виде установленного Правительством Российской Федерации приоритета товаров российского происхождения, работ, услуг, выполняемых, оказываемых российскими лицами, по отношению к товарам, происходящим из иностранного государства, работам, услугам, выполняемым, оказываемым иностранными лицами, заказчик, организатор закупки дополнительно к требованиям и типовым формам, предусмотренным в Стандарте, предусматривает в документации о закупке: \\nа) требование об указании (декларировании) участником закупки в заявке на участие в закупке (в соответствующей части заявки на участие в закупке, содержащей предложение о поставке товара) наименования страны происхождения поставляемых товаров;\\nб) положение об ответственности участников закупки за представление недостоверных сведений о стране происхождения товара, указанного в заявке на участие в закупке;\\nв) сведения о НМЦед, являющихся предметом закупки;\\nг) условие о том, что отсутствие в заявке на участие в закупке указания (декларирования) страны происхождения поставляемого товара не является основанием для отклонения заявки на участие в закупке и такая заявка рассматривается как содержащая предложение о поставке иностранных товаров;\\nд) условие о том, что для целей установления соотношения цены предлагаемых к поставке товаров российского и иностранного происхождения, цены выполнения работ, оказания услуг российскими и иностранными лицами в случаях, предусмотренных подпунктами «г» и «д» пункта 6 постановления Правительства Российской Федерации от 16.09.2016 № 925, цена единицы каждого товара, работы, услуги определяется как произведение НМЦед, указанной в документации о закупке в соответствии с подпунктом «в» настоящей части, на коэффициент изменения НМЦ по результатам проведения закупки, определяемый как результат деления цены договора, по которой заключается договор, на НМЦ;\\nе) условие отнесения участника закупки к российским или иностранным лицам на основании документов участника закупки, содержащих информацию о месте его регистрации (для юридических лиц и индивидуальных предпринимателей), на основании документов, удостоверяющих личность (для физических лиц);\\nж) указание страны происхождения поставляемого товара на основании сведений, содержащихся в заявке на участие в закупке, представленной участником закупки, с которым заключается договор;\\nз) положение о заключении договора с участником закупки, который предложил такие же, как и победитель закупки, условия исполнения договора или предложение которого содержит лучшие условия исполнения договора, следующие после условий, предложенных победителем закупки, который признан уклонившемся от заключения договора;\\nи) условие о том, что при исполнении договора, заключенного с участником закупки, которому предоставлен приоритет, не допускается замена страны происхождения товаров, за исключением случая, когда в результате такой замены вместо иностранных товаров поставляются российские товары, при этом качество, технические и функциональные характеристики (потребительские свойства) таких товаров не должны уступать качеству и соответствующим техническим и функциональным характеристикам товаров, указанных в договоре.\\n2. В случае, если к закупке применяются преференции в виде установленного Правительством Российской Федерации приоритета товаров российского происхождения, работ, услуг, выполняемых, оказываемых российскими лицами, по отношению к товарам, происходящим из иностранного государства, работам, услугам, выполняемым, оказываемым иностранными лицами, порядок проведения закупки корректируется с учетом требований соответствующих нормативных правовых актов Российской Федерации и положения настоящей статьи имеют преимущество перед иными положениями Стандарта.'"
      ]
     },
     "execution_count": 95,
     "metadata": {},
     "output_type": "execute_result"
    }
   ],
   "source": [
    "sentence"
   ]
  },
  {
   "cell_type": "code",
   "execution_count": null,
   "id": "47e5a32b",
   "metadata": {},
   "outputs": [],
   "source": [
    "prompt = '''<SC6>Текст: {}\\nВопрос: {}\\nОтвет: <extra_id_0>'''.format(sentence, find)\n",
    "answ = generate(prompt).rsplit('<extra_id_0>')[-1].split(\"</s>\")[0]"
   ]
  },
  {
   "cell_type": "code",
   "execution_count": null,
   "id": "9755b9f7",
   "metadata": {},
   "outputs": [],
   "source": [
    "answ"
   ]
  },
  {
   "cell_type": "code",
   "execution_count": null,
   "id": "6b4b68e6",
   "metadata": {},
   "outputs": [],
   "source": []
  },
  {
   "cell_type": "code",
   "execution_count": null,
   "id": "eb29ccc0",
   "metadata": {},
   "outputs": [],
   "source": []
  },
  {
   "cell_type": "code",
   "execution_count": null,
   "id": "9dab9689",
   "metadata": {},
   "outputs": [],
   "source": []
  },
  {
   "cell_type": "markdown",
   "id": "2477e7c9",
   "metadata": {},
   "source": [
    "Эмбединги LaBSE для глав нормативных документов"
   ]
  },
  {
   "cell_type": "code",
   "execution_count": 10,
   "id": "829eb679",
   "metadata": {},
   "outputs": [
    {
     "data": {
      "image/png": "[encoded data removed]",
      "text/plain": [
       "<Figure size 432x288 with 1 Axes>"
      ]
     },
     "metadata": {
      "needs_background": "light"
     },
     "output_type": "display_data"
    }
   ],
   "source": [
    "#построим график количества слов, появляющихся в каждом тексте.\n",
    "def plot_word_number_histogram(text):\n",
    "    text.str.split().map(lambda x: len(x)).hist(bins=10)\n",
    "    \n",
    "plot_word_number_histogram(data1['text'])"
   ]
  },
  {
   "cell_type": "code",
   "execution_count": 6,
   "id": "ed25eb3c",
   "metadata": {},
   "outputs": [],
   "source": [
    "sentences = data1['text'].tolist()"
   ]
  },
  {
   "cell_type": "code",
   "execution_count": 12,
   "id": "5106e487",
   "metadata": {},
   "outputs": [],
   "source": [
    "# transformers\n",
    "tokenizer = AutoTokenizer.from_pretrained(\"cointegrated/LaBSE-en-ru\")\n",
    "model = AutoModel.from_pretrained(\"cointegrated/LaBSE-en-ru\")\n",
    "\n",
    "encoded_input = tokenizer(sentences, padding=True, truncation=True, max_length=512, return_tensors='pt')\n",
    "with torch.no_grad():\n",
    "    model_output = model(**encoded_input)\n",
    "embeddings = model_output.pooler_output\n",
    "embeddings = torch.nn.functional.normalize(embeddings)\n",
    "#print(embeddings)"
   ]
  },
  {
   "cell_type": "code",
   "execution_count": 13,
   "id": "ff986f2b",
   "metadata": {},
   "outputs": [
    {
     "name": "stdout",
     "output_type": "stream",
     "text": [
      "768\n"
     ]
    }
   ],
   "source": [
    "print(embeddings.shape[1])"
   ]
  },
  {
   "cell_type": "code",
   "execution_count": 15,
   "id": "7604ccb7",
   "metadata": {},
   "outputs": [
    {
     "data": {
      "text/plain": [
       "True"
      ]
     },
     "execution_count": 15,
     "metadata": {},
     "output_type": "execute_result"
    }
   ],
   "source": [
    "#\"angular\", \"euclidean\", \"manhattan\", \"hamming\", or \"dot\" 384 768 1024\n",
    "f=embeddings.shape[1]\n",
    "t1 = AnnoyIndex(f, metric = 'angular')\n",
    "\n",
    "# train['id'], \n",
    "for user_id, user_embedding in enumerate(embeddings):\n",
    "    t1.add_item(user_id, user_embedding)\n",
    "t1.build(-1)"
   ]
  },
  {
   "cell_type": "code",
   "execution_count": 31,
   "id": "8512de1f",
   "metadata": {},
   "outputs": [],
   "source": [
    "def predict_nns_1(find, sentence, n=1):\n",
    "    encoded_input = tokenizer(sentence, padding=True, truncation=True, max_length=512, return_tensors='pt')\n",
    "    with torch.no_grad():\n",
    "        model_output = model(**encoded_input)\n",
    "    embeddings = model_output.pooler_output\n",
    "    embeddings = torch.nn.functional.normalize(embeddings)\n",
    "    user_embed=embeddings[0].numpy()\n",
    "\n",
    "    idx, dist = t1.get_nns_by_vector(user_embed, 1, search_k=-1, include_distances=True)  \n",
    "    if dist[0] < 1.1:\n",
    "        return sentences[idx[0]]\n",
    "    else:\n",
    "        return \"Не могу ответить на вопрос\", "
   ]
  },
  {
   "cell_type": "code",
   "execution_count": null,
   "id": "38fcd7b3",
   "metadata": {},
   "outputs": [],
   "source": [
    "sentence=\"В каких случаях конкурентная закупка признается несостоявшейся?\"\n",
    "predict_nns_1(find, sentence)"
   ]
  },
  {
   "cell_type": "markdown",
   "id": "1555ab23",
   "metadata": {},
   "source": [
    "Формулирование ответа внутри главы документа"
   ]
  },
  {
   "cell_type": "code",
   "execution_count": 42,
   "id": "06361519",
   "metadata": {},
   "outputs": [
    {
     "name": "stdout",
     "output_type": "stream",
     "text": [
      "<SC6>Текст: Статья 1.1. Цели настоящего Стандарта \n",
      "Стандарт разработан в соответствии с требованиями Федерального закона \n",
      "от 18 июля 2011 года № 223-ФЗ «О закупках товаров, работ, услуг отдельными видами юридических лиц» в целях:\n",
      "обеспечения единства экономического пространства, расширения возможностей участия юридических и физических лиц в закупках продукции для нужд заказчиков и стимулирования такого участия, развития добросовестной конкуренции;\n",
      "создания условий для своевременного и полного удовлетворения потребностей Корпорации и организаций атомной отрасли в продукции с необходимыми показателями цены, качества и надежности;\n",
      "эффективного использования денежных средств;\n",
      "обеспечения гласности и прозрачности закупки;\n",
      "предотвращения коррупции и других злоупотреблений;\n",
      "соблюдения законодательства.\n",
      "\n",
      "Статья 1.2. Принципы закупочной деятельности\n",
      "Открытость: информационная прозрачность закупок.\n",
      "Конкурентность: равноправие, справедливость, отсутствие дискриминации и необоснованных ограничений по отношению к участникам закупки.\n",
      " Обоснованность: соблюдение правовых норм, коллегиальность и документирование принимаемых решений, отсутствие ограничения допуска к участию в закупке путем установления неизмеряемых требований к участникам закупки.\n",
      " Своевременность: реализация закупочных процессов для своевременного обеспечения заказчика продукцией, заблаговременного информирования поставщиков о планируемых закупках.\n",
      " Эффективность: обеспечение целевого, экономически обоснованного и эффективного расходования средств на приобретение продукции (в том числе с учетом стоимости жизненного цикла закупаемой продукции) и реализации мер, направленных на сокращение издержек заказчика. \n",
      "Приоритет безопасности: при проведении закупок безусловным приоритетом является обеспечение безопасности при осуществлении организациями атомной отрасли деятельности в области использования атомной энергии.\n",
      "Вопрос: Что должен содержать запрос ТКП?\n",
      "Ответ: <extra_id_0>\n"
     ]
    }
   ],
   "source": [
    "prompt = '''<SC6>Текст: {}\\nВопрос: {}\\nОтвет: <extra_id_0>'''.format(sentences[0], sentence)\n",
    "answ = generate(prompt).rsplit('<extra_id_0>')[-1].split(\"</s>\")[0]"
   ]
  },
  {
   "cell_type": "code",
   "execution_count": 43,
   "id": "9a22df14",
   "metadata": {},
   "outputs": [
    {
     "data": {
      "text/plain": [
       "'\\nЗапрос ТКП должен содержать следующие сведения:\\n\\n1. Цели и задачи Стандарта.\\n\\n2. Принципы закупочной деятельности.'"
      ]
     },
     "execution_count": 43,
     "metadata": {},
     "output_type": "execute_result"
    }
   ],
   "source": [
    "answ"
   ]
  },
  {
   "cell_type": "code",
   "execution_count": null,
   "id": "7367e1e5",
   "metadata": {},
   "outputs": [],
   "source": []
  }
 ],
 "metadata": {
  "kernelspec": {
   "display_name": "Python 3 (ipykernel)",
   "language": "python",
   "name": "python3"
  },
  "language_info": {
   "codemirror_mode": {
    "name": "ipython",
    "version": 3
   },
   "file_extension": ".py",
   "mimetype": "text/x-python",
   "name": "python",
   "nbconvert_exporter": "python",
   "pygments_lexer": "ipython3",
   "version": "3.9.12"
  }
 },
 "nbformat": 4,
 "nbformat_minor": 5
}
